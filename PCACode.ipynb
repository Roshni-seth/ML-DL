{
  "metadata": {
    "kernelspec": {
      "language": "python",
      "display_name": "Python 3",
      "name": "python3"
    },
    "language_info": {
      "name": "python",
      "version": "3.10.14",
      "mimetype": "text/x-python",
      "codemirror_mode": {
        "name": "ipython",
        "version": 3
      },
      "pygments_lexer": "ipython3",
      "nbconvert_exporter": "python",
      "file_extension": ".py"
    },
    "kaggle": {
      "accelerator": "none",
      "dataSources": [
        {
          "sourceId": 3004,
          "databundleVersionId": 861823,
          "sourceType": "competition"
        }
      ],
      "dockerImageVersionId": 30786,
      "isInternetEnabled": false,
      "language": "python",
      "sourceType": "notebook",
      "isGpuEnabled": false
    },
    "colab": {
      "name": "PCACode",
      "provenance": [],
      "include_colab_link": true
    }
  },
  "nbformat_minor": 0,
  "nbformat": 4,
  "cells": [
    {
      "cell_type": "markdown",
      "metadata": {
        "id": "view-in-github",
        "colab_type": "text"
      },
      "source": [
        "<a href=\"https://colab.research.google.com/github/Roshni-seth/ML-DL/blob/main/PCACode.ipynb\" target=\"_parent\"><img src=\"https://colab.research.google.com/assets/colab-badge.svg\" alt=\"Open In Colab\"/></a>"
      ]
    },
    {
      "cell_type": "code",
      "source": [
        "df=pd.read_csv('/kaggle/input/digit-recognizer/train.csv')"
      ],
      "metadata": {
        "execution": {
          "iopub.status.busy": "2024-10-04T18:05:05.086575Z",
          "iopub.execute_input": "2024-10-04T18:05:05.086998Z",
          "iopub.status.idle": "2024-10-04T18:05:08.11548Z",
          "shell.execute_reply.started": "2024-10-04T18:05:05.086954Z",
          "shell.execute_reply": "2024-10-04T18:05:08.114474Z"
        },
        "trusted": true,
        "id": "Tk787FQ02SLI"
      },
      "execution_count": null,
      "outputs": []
    },
    {
      "cell_type": "code",
      "source": [
        "df.head()"
      ],
      "metadata": {
        "execution": {
          "iopub.status.busy": "2024-10-04T17:46:06.699567Z",
          "iopub.execute_input": "2024-10-04T17:46:06.700015Z",
          "iopub.status.idle": "2024-10-04T17:46:06.73187Z",
          "shell.execute_reply.started": "2024-10-04T17:46:06.699971Z",
          "shell.execute_reply": "2024-10-04T17:46:06.730621Z"
        },
        "trusted": true,
        "id": "pI8zUfec2SLI",
        "outputId": "63bea323-e4a9-47a9-cb85-f3e74bb17618"
      },
      "execution_count": null,
      "outputs": [
        {
          "execution_count": 4,
          "output_type": "execute_result",
          "data": {
            "text/plain": "   label  pixel0  pixel1  pixel2  pixel3  pixel4  pixel5  pixel6  pixel7  \\\n0      1       0       0       0       0       0       0       0       0   \n1      0       0       0       0       0       0       0       0       0   \n2      1       0       0       0       0       0       0       0       0   \n3      4       0       0       0       0       0       0       0       0   \n4      0       0       0       0       0       0       0       0       0   \n\n   pixel8  ...  pixel774  pixel775  pixel776  pixel777  pixel778  pixel779  \\\n0       0  ...         0         0         0         0         0         0   \n1       0  ...         0         0         0         0         0         0   \n2       0  ...         0         0         0         0         0         0   \n3       0  ...         0         0         0         0         0         0   \n4       0  ...         0         0         0         0         0         0   \n\n   pixel780  pixel781  pixel782  pixel783  \n0         0         0         0         0  \n1         0         0         0         0  \n2         0         0         0         0  \n3         0         0         0         0  \n4         0         0         0         0  \n\n[5 rows x 785 columns]",
            "text/html": "<div>\n<style scoped>\n    .dataframe tbody tr th:only-of-type {\n        vertical-align: middle;\n    }\n\n    .dataframe tbody tr th {\n        vertical-align: top;\n    }\n\n    .dataframe thead th {\n        text-align: right;\n    }\n</style>\n<table border=\"1\" class=\"dataframe\">\n  <thead>\n    <tr style=\"text-align: right;\">\n      <th></th>\n      <th>label</th>\n      <th>pixel0</th>\n      <th>pixel1</th>\n      <th>pixel2</th>\n      <th>pixel3</th>\n      <th>pixel4</th>\n      <th>pixel5</th>\n      <th>pixel6</th>\n      <th>pixel7</th>\n      <th>pixel8</th>\n      <th>...</th>\n      <th>pixel774</th>\n      <th>pixel775</th>\n      <th>pixel776</th>\n      <th>pixel777</th>\n      <th>pixel778</th>\n      <th>pixel779</th>\n      <th>pixel780</th>\n      <th>pixel781</th>\n      <th>pixel782</th>\n      <th>pixel783</th>\n    </tr>\n  </thead>\n  <tbody>\n    <tr>\n      <th>0</th>\n      <td>1</td>\n      <td>0</td>\n      <td>0</td>\n      <td>0</td>\n      <td>0</td>\n      <td>0</td>\n      <td>0</td>\n      <td>0</td>\n      <td>0</td>\n      <td>0</td>\n      <td>...</td>\n      <td>0</td>\n      <td>0</td>\n      <td>0</td>\n      <td>0</td>\n      <td>0</td>\n      <td>0</td>\n      <td>0</td>\n      <td>0</td>\n      <td>0</td>\n      <td>0</td>\n    </tr>\n    <tr>\n      <th>1</th>\n      <td>0</td>\n      <td>0</td>\n      <td>0</td>\n      <td>0</td>\n      <td>0</td>\n      <td>0</td>\n      <td>0</td>\n      <td>0</td>\n      <td>0</td>\n      <td>0</td>\n      <td>...</td>\n      <td>0</td>\n      <td>0</td>\n      <td>0</td>\n      <td>0</td>\n      <td>0</td>\n      <td>0</td>\n      <td>0</td>\n      <td>0</td>\n      <td>0</td>\n      <td>0</td>\n    </tr>\n    <tr>\n      <th>2</th>\n      <td>1</td>\n      <td>0</td>\n      <td>0</td>\n      <td>0</td>\n      <td>0</td>\n      <td>0</td>\n      <td>0</td>\n      <td>0</td>\n      <td>0</td>\n      <td>0</td>\n      <td>...</td>\n      <td>0</td>\n      <td>0</td>\n      <td>0</td>\n      <td>0</td>\n      <td>0</td>\n      <td>0</td>\n      <td>0</td>\n      <td>0</td>\n      <td>0</td>\n      <td>0</td>\n    </tr>\n    <tr>\n      <th>3</th>\n      <td>4</td>\n      <td>0</td>\n      <td>0</td>\n      <td>0</td>\n      <td>0</td>\n      <td>0</td>\n      <td>0</td>\n      <td>0</td>\n      <td>0</td>\n      <td>0</td>\n      <td>...</td>\n      <td>0</td>\n      <td>0</td>\n      <td>0</td>\n      <td>0</td>\n      <td>0</td>\n      <td>0</td>\n      <td>0</td>\n      <td>0</td>\n      <td>0</td>\n      <td>0</td>\n    </tr>\n    <tr>\n      <th>4</th>\n      <td>0</td>\n      <td>0</td>\n      <td>0</td>\n      <td>0</td>\n      <td>0</td>\n      <td>0</td>\n      <td>0</td>\n      <td>0</td>\n      <td>0</td>\n      <td>0</td>\n      <td>...</td>\n      <td>0</td>\n      <td>0</td>\n      <td>0</td>\n      <td>0</td>\n      <td>0</td>\n      <td>0</td>\n      <td>0</td>\n      <td>0</td>\n      <td>0</td>\n      <td>0</td>\n    </tr>\n  </tbody>\n</table>\n<p>5 rows × 785 columns</p>\n</div>"
          },
          "metadata": {}
        }
      ]
    },
    {
      "cell_type": "code",
      "source": [
        "import matplotlib.pyplot as plt"
      ],
      "metadata": {
        "execution": {
          "iopub.status.busy": "2024-10-04T17:47:12.524698Z",
          "iopub.execute_input": "2024-10-04T17:47:12.525237Z",
          "iopub.status.idle": "2024-10-04T17:47:12.531515Z",
          "shell.execute_reply.started": "2024-10-04T17:47:12.525182Z",
          "shell.execute_reply": "2024-10-04T17:47:12.529826Z"
        },
        "trusted": true,
        "id": "QfF7ORW82SLJ"
      },
      "execution_count": null,
      "outputs": []
    },
    {
      "cell_type": "code",
      "source": [
        "plt.imshow(df.iloc[18306,1:].values.reshape(28,28))"
      ],
      "metadata": {
        "execution": {
          "iopub.status.busy": "2024-10-04T17:48:33.764812Z",
          "iopub.execute_input": "2024-10-04T17:48:33.76521Z",
          "iopub.status.idle": "2024-10-04T17:48:34.342397Z",
          "shell.execute_reply.started": "2024-10-04T17:48:33.765171Z",
          "shell.execute_reply": "2024-10-04T17:48:34.341159Z"
        },
        "trusted": true,
        "id": "7_TbJdYT2SLJ",
        "outputId": "0099682d-7fe4-439c-966b-d2f0426cf08c"
      },
      "execution_count": null,
      "outputs": [
        {
          "execution_count": 8,
          "output_type": "execute_result",
          "data": {
            "text/plain": "<matplotlib.image.AxesImage at 0x7c6625bdfd30>"
          },
          "metadata": {}
        },
        {
          "output_type": "display_data",
          "data": {
            "text/plain": "<Figure size 640x480 with 1 Axes>",
            "image/png": "[encoded data removed]"
          },
          "metadata": {}
        }
      ]
    },
    {
      "cell_type": "code",
      "source": [
        "X = df.iloc[:,1:]\n",
        "y=df.iloc[:,0]"
      ],
      "metadata": {
        "execution": {
          "iopub.status.busy": "2024-10-04T18:05:18.186396Z",
          "iopub.execute_input": "2024-10-04T18:05:18.186822Z",
          "iopub.status.idle": "2024-10-04T18:05:18.192726Z",
          "shell.execute_reply.started": "2024-10-04T18:05:18.186779Z",
          "shell.execute_reply": "2024-10-04T18:05:18.191481Z"
        },
        "trusted": true,
        "id": "O1B71OnU2SLK"
      },
      "execution_count": null,
      "outputs": []
    },
    {
      "cell_type": "code",
      "source": [
        "from sklearn.model_selection import train_test_split\n",
        "X_train, X_test,y_train,y_test=train_test_split(X,y,test_size=0.2,random_state=42)"
      ],
      "metadata": {
        "execution": {
          "iopub.status.busy": "2024-10-04T18:05:20.88706Z",
          "iopub.execute_input": "2024-10-04T18:05:20.887655Z",
          "iopub.status.idle": "2024-10-04T18:05:21.135093Z",
          "shell.execute_reply.started": "2024-10-04T18:05:20.887597Z",
          "shell.execute_reply": "2024-10-04T18:05:21.133848Z"
        },
        "trusted": true,
        "id": "JZAeRgR72SLK"
      },
      "execution_count": null,
      "outputs": []
    },
    {
      "cell_type": "code",
      "source": [
        "X_train.shape"
      ],
      "metadata": {
        "execution": {
          "iopub.status.busy": "2024-10-04T17:53:28.960478Z",
          "iopub.execute_input": "2024-10-04T17:53:28.960956Z",
          "iopub.status.idle": "2024-10-04T17:53:28.968619Z",
          "shell.execute_reply.started": "2024-10-04T17:53:28.96091Z",
          "shell.execute_reply": "2024-10-04T17:53:28.967409Z"
        },
        "trusted": true,
        "id": "BhkVZr532SLL",
        "outputId": "19cd0f4a-89f3-4de6-9693-4b6472447a99"
      },
      "execution_count": null,
      "outputs": [
        {
          "execution_count": 12,
          "output_type": "execute_result",
          "data": {
            "text/plain": "(33600, 784)"
          },
          "metadata": {}
        }
      ]
    },
    {
      "cell_type": "code",
      "source": [
        "from sklearn.neighbors import KNeighborsClassifier"
      ],
      "metadata": {
        "execution": {
          "iopub.status.busy": "2024-10-04T18:05:37.206822Z",
          "iopub.execute_input": "2024-10-04T18:05:37.207227Z",
          "iopub.status.idle": "2024-10-04T18:05:37.212865Z",
          "shell.execute_reply.started": "2024-10-04T18:05:37.207188Z",
          "shell.execute_reply": "2024-10-04T18:05:37.211636Z"
        },
        "trusted": true,
        "id": "j-i2AekY2SLL"
      },
      "execution_count": null,
      "outputs": []
    },
    {
      "cell_type": "code",
      "source": [
        "knn=KNeighborsClassifier()"
      ],
      "metadata": {
        "execution": {
          "iopub.status.busy": "2024-10-04T18:05:41.709565Z",
          "iopub.execute_input": "2024-10-04T18:05:41.709981Z",
          "iopub.status.idle": "2024-10-04T18:05:41.715233Z",
          "shell.execute_reply.started": "2024-10-04T18:05:41.70994Z",
          "shell.execute_reply": "2024-10-04T18:05:41.713971Z"
        },
        "trusted": true,
        "id": "L9gN7nZZ2SLM"
      },
      "execution_count": null,
      "outputs": []
    },
    {
      "cell_type": "code",
      "source": [
        "knn.fit(X_train,y_train)"
      ],
      "metadata": {
        "execution": {
          "iopub.status.busy": "2024-10-04T18:05:44.300136Z",
          "iopub.execute_input": "2024-10-04T18:05:44.300609Z",
          "iopub.status.idle": "2024-10-04T18:05:44.432827Z",
          "shell.execute_reply.started": "2024-10-04T18:05:44.300562Z",
          "shell.execute_reply": "2024-10-04T18:05:44.431684Z"
        },
        "trusted": true,
        "id": "9gsJ2UjX2SLM",
        "outputId": "57fdbc50-82af-4ce0-c5e1-3a1c0d0619ad"
      },
      "execution_count": null,
      "outputs": [
        {
          "execution_count": 34,
          "output_type": "execute_result",
          "data": {
            "text/plain": "KNeighborsClassifier()",
            "text/html": "<style>#sk-container-id-2 {color: black;background-color: white;}#sk-container-id-2 pre{padding: 0;}#sk-container-id-2 div.sk-toggleable {background-color: white;}#sk-container-id-2 label.sk-toggleable__label {cursor: pointer;display: block;width: 100%;margin-bottom: 0;padding: 0.3em;box-sizing: border-box;text-align: center;}#sk-container-id-2 label.sk-toggleable__label-arrow:before {content: \"▸\";float: left;margin-right: 0.25em;color: #696969;}#sk-container-id-2 label.sk-toggleable__label-arrow:hover:before {color: black;}#sk-container-id-2 div.sk-estimator:hover label.sk-toggleable__label-arrow:before {color: black;}#sk-container-id-2 div.sk-toggleable__content {max-height: 0;max-width: 0;overflow: hidden;text-align: left;background-color: #f0f8ff;}#sk-container-id-2 div.sk-toggleable__content pre {margin: 0.2em;color: black;border-radius: 0.25em;background-color: #f0f8ff;}#sk-container-id-2 input.sk-toggleable__control:checked~div.sk-toggleable__content {max-height: 200px;max-width: 100%;overflow: auto;}#sk-container-id-2 input.sk-toggleable__control:checked~label.sk-toggleable__label-arrow:before {content: \"▾\";}#sk-container-id-2 div.sk-estimator input.sk-toggleable__control:checked~label.sk-toggleable__label {background-color: #d4ebff;}#sk-container-id-2 div.sk-label input.sk-toggleable__control:checked~label.sk-toggleable__label {background-color: #d4ebff;}#sk-container-id-2 input.sk-hidden--visually {border: 0;clip: rect(1px 1px 1px 1px);clip: rect(1px, 1px, 1px, 1px);height: 1px;margin: -1px;overflow: hidden;padding: 0;position: absolute;width: 1px;}#sk-container-id-2 div.sk-estimator {font-family: monospace;background-color: #f0f8ff;border: 1px dotted black;border-radius: 0.25em;box-sizing: border-box;margin-bottom: 0.5em;}#sk-container-id-2 div.sk-estimator:hover {background-color: #d4ebff;}#sk-container-id-2 div.sk-parallel-item::after {content: \"\";width: 100%;border-bottom: 1px solid gray;flex-grow: 1;}#sk-container-id-2 div.sk-label:hover label.sk-toggleable__label {background-color: #d4ebff;}#sk-container-id-2 div.sk-serial::before {content: \"\";position: absolute;border-left: 1px solid gray;box-sizing: border-box;top: 0;bottom: 0;left: 50%;z-index: 0;}#sk-container-id-2 div.sk-serial {display: flex;flex-direction: column;align-items: center;background-color: white;padding-right: 0.2em;padding-left: 0.2em;position: relative;}#sk-container-id-2 div.sk-item {position: relative;z-index: 1;}#sk-container-id-2 div.sk-parallel {display: flex;align-items: stretch;justify-content: center;background-color: white;position: relative;}#sk-container-id-2 div.sk-item::before, #sk-container-id-2 div.sk-parallel-item::before {content: \"\";position: absolute;border-left: 1px solid gray;box-sizing: border-box;top: 0;bottom: 0;left: 50%;z-index: -1;}#sk-container-id-2 div.sk-parallel-item {display: flex;flex-direction: column;z-index: 1;position: relative;background-color: white;}#sk-container-id-2 div.sk-parallel-item:first-child::after {align-self: flex-end;width: 50%;}#sk-container-id-2 div.sk-parallel-item:last-child::after {align-self: flex-start;width: 50%;}#sk-container-id-2 div.sk-parallel-item:only-child::after {width: 0;}#sk-container-id-2 div.sk-dashed-wrapped {border: 1px dashed gray;margin: 0 0.4em 0.5em 0.4em;box-sizing: border-box;padding-bottom: 0.4em;background-color: white;}#sk-container-id-2 div.sk-label label {font-family: monospace;font-weight: bold;display: inline-block;line-height: 1.2em;}#sk-container-id-2 div.sk-label-container {text-align: center;}#sk-container-id-2 div.sk-container {/* jupyter's `normalize.less` sets `[hidden] { display: none; }` but bootstrap.min.css set `[hidden] { display: none !important; }` so we also need the `!important` here to be able to override the default hidden behavior on the sphinx rendered scikit-learn.org. See: https://github.com/scikit-learn/scikit-learn/issues/21755 */display: inline-block !important;position: relative;}#sk-container-id-2 div.sk-text-repr-fallback {display: none;}</style><div id=\"sk-container-id-2\" class=\"sk-top-container\"><div class=\"sk-text-repr-fallback\"><pre>KNeighborsClassifier()</pre><b>In a Jupyter environment, please rerun this cell to show the HTML representation or trust the notebook. <br />On GitHub, the HTML representation is unable to render, please try loading this page with nbviewer.org.</b></div><div class=\"sk-container\" hidden><div class=\"sk-item\"><div class=\"sk-estimator sk-toggleable\"><input class=\"sk-toggleable__control sk-hidden--visually\" id=\"sk-estimator-id-2\" type=\"checkbox\" checked><label for=\"sk-estimator-id-2\" class=\"sk-toggleable__label sk-toggleable__label-arrow\">KNeighborsClassifier</label><div class=\"sk-toggleable__content\"><pre>KNeighborsClassifier()</pre></div></div></div></div></div>"
          },
          "metadata": {}
        }
      ]
    },
    {
      "cell_type": "code",
      "source": [
        "import time\n",
        "start=time.time()\n",
        "y_pred=knn.predict(X_test)\n",
        "print(time.time()-start)"
      ],
      "metadata": {
        "execution": {
          "iopub.status.busy": "2024-10-04T18:05:46.819569Z",
          "iopub.execute_input": "2024-10-04T18:05:46.819975Z",
          "iopub.status.idle": "2024-10-04T18:05:55.546442Z",
          "shell.execute_reply.started": "2024-10-04T18:05:46.819936Z",
          "shell.execute_reply": "2024-10-04T18:05:55.545122Z"
        },
        "trusted": true,
        "id": "KaUv4kFz2SLN",
        "outputId": "82f63fd8-a81a-49a6-ecdc-ad35dd0f8fc4"
      },
      "execution_count": null,
      "outputs": [
        {
          "name": "stdout",
          "text": "8.720710754394531\n",
          "output_type": "stream"
        }
      ]
    },
    {
      "cell_type": "code",
      "source": [
        "from sklearn.metrics import accuracy_score\n",
        "accuracy_score(y_test,y_pred)"
      ],
      "metadata": {
        "execution": {
          "iopub.status.busy": "2024-10-04T18:05:55.548547Z",
          "iopub.execute_input": "2024-10-04T18:05:55.548905Z",
          "iopub.status.idle": "2024-10-04T18:05:55.559078Z",
          "shell.execute_reply.started": "2024-10-04T18:05:55.548865Z",
          "shell.execute_reply": "2024-10-04T18:05:55.55782Z"
        },
        "trusted": true,
        "id": "sP5lk2iZ2SLN",
        "outputId": "4fd6d210-e4db-45d2-9988-887dfa637ad8"
      },
      "execution_count": null,
      "outputs": [
        {
          "execution_count": 36,
          "output_type": "execute_result",
          "data": {
            "text/plain": "0.9391666666666667"
          },
          "metadata": {}
        }
      ]
    },
    {
      "cell_type": "code",
      "source": [
        "from sklearn.preprocessing import StandardScaler\n",
        "scaler=StandardScaler()"
      ],
      "metadata": {
        "execution": {
          "iopub.status.busy": "2024-10-04T18:05:58.149819Z",
          "iopub.execute_input": "2024-10-04T18:05:58.150284Z",
          "iopub.status.idle": "2024-10-04T18:05:58.156022Z",
          "shell.execute_reply.started": "2024-10-04T18:05:58.150221Z",
          "shell.execute_reply": "2024-10-04T18:05:58.154736Z"
        },
        "trusted": true,
        "id": "mvESo9Ph2SLN"
      },
      "execution_count": null,
      "outputs": []
    },
    {
      "cell_type": "code",
      "source": [
        "X_train = scaler.fit_transform(X_train)\n",
        "X_test=scaler.transform(X_test)"
      ],
      "metadata": {
        "execution": {
          "iopub.status.busy": "2024-10-04T18:06:05.030011Z",
          "iopub.execute_input": "2024-10-04T18:06:05.030468Z",
          "iopub.status.idle": "2024-10-04T18:06:05.422845Z",
          "shell.execute_reply.started": "2024-10-04T18:06:05.030424Z",
          "shell.execute_reply": "2024-10-04T18:06:05.421653Z"
        },
        "trusted": true,
        "id": "tJyjO-aj2SLO"
      },
      "execution_count": null,
      "outputs": []
    },
    {
      "cell_type": "code",
      "source": [
        "from sklearn.decomposition import PCA\n",
        "pca=PCA(n_components=200)"
      ],
      "metadata": {
        "execution": {
          "iopub.status.busy": "2024-10-04T18:08:38.712773Z",
          "iopub.execute_input": "2024-10-04T18:08:38.71391Z",
          "iopub.status.idle": "2024-10-04T18:08:38.71861Z",
          "shell.execute_reply.started": "2024-10-04T18:08:38.713864Z",
          "shell.execute_reply": "2024-10-04T18:08:38.717515Z"
        },
        "trusted": true,
        "id": "e2FjEV912SLO"
      },
      "execution_count": null,
      "outputs": []
    },
    {
      "cell_type": "code",
      "source": [
        "X_train_trf=pca.fit_transform(X_train)\n",
        "X_test_trf=pca.transform(X_test)"
      ],
      "metadata": {
        "execution": {
          "iopub.status.busy": "2024-10-04T18:08:43.84216Z",
          "iopub.execute_input": "2024-10-04T18:08:43.843098Z",
          "iopub.status.idle": "2024-10-04T18:08:50.093451Z",
          "shell.execute_reply.started": "2024-10-04T18:08:43.843052Z",
          "shell.execute_reply": "2024-10-04T18:08:50.091885Z"
        },
        "trusted": true,
        "id": "RmJ8vep-2SLO"
      },
      "execution_count": null,
      "outputs": []
    },
    {
      "cell_type": "code",
      "source": [
        "X_train.shape"
      ],
      "metadata": {
        "execution": {
          "iopub.status.busy": "2024-10-04T18:06:55.149848Z",
          "iopub.execute_input": "2024-10-04T18:06:55.150405Z",
          "iopub.status.idle": "2024-10-04T18:06:55.159164Z",
          "shell.execute_reply.started": "2024-10-04T18:06:55.15035Z",
          "shell.execute_reply": "2024-10-04T18:06:55.157759Z"
        },
        "trusted": true,
        "id": "PUGfHg0f2SLP",
        "outputId": "3f9d0ec4-bc15-409c-a08c-0ea6f70e9133"
      },
      "execution_count": null,
      "outputs": [
        {
          "execution_count": 45,
          "output_type": "execute_result",
          "data": {
            "text/plain": "(33600, 784)"
          },
          "metadata": {}
        }
      ]
    },
    {
      "cell_type": "code",
      "source": [
        "knn= KNeighborsClassifier()"
      ],
      "metadata": {
        "execution": {
          "iopub.status.busy": "2024-10-04T18:09:00.122473Z",
          "iopub.execute_input": "2024-10-04T18:09:00.122912Z",
          "iopub.status.idle": "2024-10-04T18:09:00.127854Z",
          "shell.execute_reply.started": "2024-10-04T18:09:00.122869Z",
          "shell.execute_reply": "2024-10-04T18:09:00.12659Z"
        },
        "trusted": true,
        "id": "CnVgKU9s2SLP"
      },
      "execution_count": null,
      "outputs": []
    },
    {
      "cell_type": "code",
      "source": [
        "knn.fit(X_train_trf,y_train)"
      ],
      "metadata": {
        "execution": {
          "iopub.status.busy": "2024-10-04T18:09:04.622325Z",
          "iopub.execute_input": "2024-10-04T18:09:04.622749Z",
          "iopub.status.idle": "2024-10-04T18:09:04.657935Z",
          "shell.execute_reply.started": "2024-10-04T18:09:04.622709Z",
          "shell.execute_reply": "2024-10-04T18:09:04.656814Z"
        },
        "trusted": true,
        "id": "OCVW25ne2SLP",
        "outputId": "7d354ce7-1407-4ccb-a455-f13f7ef543c6"
      },
      "execution_count": null,
      "outputs": [
        {
          "execution_count": 56,
          "output_type": "execute_result",
          "data": {
            "text/plain": "KNeighborsClassifier()",
            "text/html": "<style>#sk-container-id-4 {color: black;background-color: white;}#sk-container-id-4 pre{padding: 0;}#sk-container-id-4 div.sk-toggleable {background-color: white;}#sk-container-id-4 label.sk-toggleable__label {cursor: pointer;display: block;width: 100%;margin-bottom: 0;padding: 0.3em;box-sizing: border-box;text-align: center;}#sk-container-id-4 label.sk-toggleable__label-arrow:before {content: \"▸\";float: left;margin-right: 0.25em;color: #696969;}#sk-container-id-4 label.sk-toggleable__label-arrow:hover:before {color: black;}#sk-container-id-4 div.sk-estimator:hover label.sk-toggleable__label-arrow:before {color: black;}#sk-container-id-4 div.sk-toggleable__content {max-height: 0;max-width: 0;overflow: hidden;text-align: left;background-color: #f0f8ff;}#sk-container-id-4 div.sk-toggleable__content pre {margin: 0.2em;color: black;border-radius: 0.25em;background-color: #f0f8ff;}#sk-container-id-4 input.sk-toggleable__control:checked~div.sk-toggleable__content {max-height: 200px;max-width: 100%;overflow: auto;}#sk-container-id-4 input.sk-toggleable__control:checked~label.sk-toggleable__label-arrow:before {content: \"▾\";}#sk-container-id-4 div.sk-estimator input.sk-toggleable__control:checked~label.sk-toggleable__label {background-color: #d4ebff;}#sk-container-id-4 div.sk-label input.sk-toggleable__control:checked~label.sk-toggleable__label {background-color: #d4ebff;}#sk-container-id-4 input.sk-hidden--visually {border: 0;clip: rect(1px 1px 1px 1px);clip: rect(1px, 1px, 1px, 1px);height: 1px;margin: -1px;overflow: hidden;padding: 0;position: absolute;width: 1px;}#sk-container-id-4 div.sk-estimator {font-family: monospace;background-color: #f0f8ff;border: 1px dotted black;border-radius: 0.25em;box-sizing: border-box;margin-bottom: 0.5em;}#sk-container-id-4 div.sk-estimator:hover {background-color: #d4ebff;}#sk-container-id-4 div.sk-parallel-item::after {content: \"\";width: 100%;border-bottom: 1px solid gray;flex-grow: 1;}#sk-container-id-4 div.sk-label:hover label.sk-toggleable__label {background-color: #d4ebff;}#sk-container-id-4 div.sk-serial::before {content: \"\";position: absolute;border-left: 1px solid gray;box-sizing: border-box;top: 0;bottom: 0;left: 50%;z-index: 0;}#sk-container-id-4 div.sk-serial {display: flex;flex-direction: column;align-items: center;background-color: white;padding-right: 0.2em;padding-left: 0.2em;position: relative;}#sk-container-id-4 div.sk-item {position: relative;z-index: 1;}#sk-container-id-4 div.sk-parallel {display: flex;align-items: stretch;justify-content: center;background-color: white;position: relative;}#sk-container-id-4 div.sk-item::before, #sk-container-id-4 div.sk-parallel-item::before {content: \"\";position: absolute;border-left: 1px solid gray;box-sizing: border-box;top: 0;bottom: 0;left: 50%;z-index: -1;}#sk-container-id-4 div.sk-parallel-item {display: flex;flex-direction: column;z-index: 1;position: relative;background-color: white;}#sk-container-id-4 div.sk-parallel-item:first-child::after {align-self: flex-end;width: 50%;}#sk-container-id-4 div.sk-parallel-item:last-child::after {align-self: flex-start;width: 50%;}#sk-container-id-4 div.sk-parallel-item:only-child::after {width: 0;}#sk-container-id-4 div.sk-dashed-wrapped {border: 1px dashed gray;margin: 0 0.4em 0.5em 0.4em;box-sizing: border-box;padding-bottom: 0.4em;background-color: white;}#sk-container-id-4 div.sk-label label {font-family: monospace;font-weight: bold;display: inline-block;line-height: 1.2em;}#sk-container-id-4 div.sk-label-container {text-align: center;}#sk-container-id-4 div.sk-container {/* jupyter's `normalize.less` sets `[hidden] { display: none; }` but bootstrap.min.css set `[hidden] { display: none !important; }` so we also need the `!important` here to be able to override the default hidden behavior on the sphinx rendered scikit-learn.org. See: https://github.com/scikit-learn/scikit-learn/issues/21755 */display: inline-block !important;position: relative;}#sk-container-id-4 div.sk-text-repr-fallback {display: none;}</style><div id=\"sk-container-id-4\" class=\"sk-top-container\"><div class=\"sk-text-repr-fallback\"><pre>KNeighborsClassifier()</pre><b>In a Jupyter environment, please rerun this cell to show the HTML representation or trust the notebook. <br />On GitHub, the HTML representation is unable to render, please try loading this page with nbviewer.org.</b></div><div class=\"sk-container\" hidden><div class=\"sk-item\"><div class=\"sk-estimator sk-toggleable\"><input class=\"sk-toggleable__control sk-hidden--visually\" id=\"sk-estimator-id-4\" type=\"checkbox\" checked><label for=\"sk-estimator-id-4\" class=\"sk-toggleable__label sk-toggleable__label-arrow\">KNeighborsClassifier</label><div class=\"sk-toggleable__content\"><pre>KNeighborsClassifier()</pre></div></div></div></div></div>"
          },
          "metadata": {}
        }
      ]
    },
    {
      "cell_type": "code",
      "source": [
        "y_pred=knn.predict(X_test_trf)"
      ],
      "metadata": {
        "execution": {
          "iopub.status.busy": "2024-10-04T18:09:08.222258Z",
          "iopub.execute_input": "2024-10-04T18:09:08.222778Z",
          "iopub.status.idle": "2024-10-04T18:09:10.975309Z",
          "shell.execute_reply.started": "2024-10-04T18:09:08.222734Z",
          "shell.execute_reply": "2024-10-04T18:09:10.974306Z"
        },
        "trusted": true,
        "id": "lnLsqd1E2SLQ"
      },
      "execution_count": null,
      "outputs": []
    },
    {
      "cell_type": "code",
      "source": [
        "accuracy_score(y_test,y_pred)"
      ],
      "metadata": {
        "execution": {
          "iopub.status.busy": "2024-10-04T18:09:19.822684Z",
          "iopub.execute_input": "2024-10-04T18:09:19.823105Z",
          "iopub.status.idle": "2024-10-04T18:09:19.833238Z",
          "shell.execute_reply.started": "2024-10-04T18:09:19.823065Z",
          "shell.execute_reply": "2024-10-04T18:09:19.832079Z"
        },
        "trusted": true,
        "id": "F11kdWdU2SLQ",
        "outputId": "53e32200-a39d-4881-f484-cd39fd98bc4b"
      },
      "execution_count": null,
      "outputs": [
        {
          "execution_count": 58,
          "output_type": "execute_result",
          "data": {
            "text/plain": "0.9503571428571429"
          },
          "metadata": {}
        }
      ]
    },
    {
      "cell_type": "code",
      "source": [
        "for i in range(1,785):\n",
        "    pca=PCA(n_components=i)\n",
        "    X_train_trf=pca.fit_transform(X_train)\n",
        "    X_test_trf=pca.transform(X_test)\n",
        "\n",
        "    knn= KNeighborsClassifier()\n",
        "\n",
        "    knn.fit(X_train_trf,y_train)\n",
        "\n",
        "    y_pred=knn.predict(X_test_trf)\n",
        "\n",
        "    print(accuracy_score(y_test,y_pred))"
      ],
      "metadata": {
        "execution": {
          "iopub.status.busy": "2024-10-04T18:10:51.212779Z",
          "iopub.execute_input": "2024-10-04T18:10:51.213207Z",
          "iopub.status.idle": "2024-10-04T18:27:33.930676Z",
          "shell.execute_reply.started": "2024-10-04T18:10:51.213167Z",
          "shell.execute_reply": "2024-10-04T18:27:33.929097Z"
        },
        "trusted": true,
        "id": "PxhZoEfo2SLQ",
        "outputId": "42d529d4-2e49-482e-9a6b-a19846aad2b4"
      },
      "execution_count": null,
      "outputs": [
        {
          "name": "stdout",
          "text": "0.2588095238095238\n0.32392857142857145\n0.5101190476190476\n0.6666666666666666\n0.7373809523809524\n0.8226190476190476\n0.8425\n0.8720238095238095\n0.8873809523809524\n0.9063095238095238\n0.9120238095238096\n0.9185714285714286\n0.9272619047619047\n0.9352380952380952\n0.9375\n0.9382142857142857\n0.9397619047619048\n0.9402380952380952\n0.9436904761904762\n0.9441666666666667\n0.9426190476190476\n0.9441666666666667\n0.9446428571428571\n0.945\n0.9472619047619047\n0.9478571428571428\n0.9466666666666667\n0.9471428571428572\n0.9489285714285715\n0.9483333333333334\n0.9497619047619048\n0.9514285714285714\n0.9516666666666667\n0.9498809523809524\n0.9516666666666667\n0.9515476190476191\n0.9525\n0.9535714285714286\n0.9546428571428571\n0.9538095238095238\n0.9533333333333334\n0.9532142857142857\n0.9528571428571428\n0.9542857142857143\n0.9534523809523809\n0.9539285714285715\n0.9532142857142857\n0.9528571428571428\n0.9542857142857143\n0.9541666666666667\n0.9530952380952381\n0.9536904761904762\n0.9532142857142857\n0.9546428571428571\n0.9546428571428571\n0.9541666666666667\n0.9539285714285715\n0.9539285714285715\n0.9534523809523809\n0.9541666666666667\n0.9541666666666667\n0.9544047619047619\n0.9530952380952381\n0.9548809523809524\n0.9545238095238096\n0.9546428571428571\n0.9547619047619048\n0.9541666666666667\n0.9545238095238096\n0.9547619047619048\n0.9547619047619048\n0.9538095238095238\n0.9544047619047619\n0.9548809523809524\n0.9544047619047619\n0.954047619047619\n0.955\n0.9546428571428571\n0.9551190476190476\n0.9547619047619048\n0.9546428571428571\n0.9554761904761905\n0.9542857142857143\n0.9553571428571429\n0.9554761904761905\n0.9535714285714286\n0.9571428571428572\n0.9551190476190476\n0.9538095238095238\n0.9535714285714286\n0.9547619047619048\n0.9546428571428571\n0.9546428571428571\n0.955595238095238\n0.9546428571428571\n0.9535714285714286\n0.9548809523809524\n0.9547619047619048\n0.954047619047619\n0.9558333333333333\n0.9536904761904762\n0.9530952380952381\n0.9541666666666667\n0.9539285714285715\n0.9538095238095238\n0.9529761904761904\n0.954047619047619\n0.9539285714285715\n0.9529761904761904\n0.9530952380952381\n0.9535714285714286\n0.9533333333333334\n0.9533333333333334\n0.9528571428571428\n0.9535714285714286\n0.9520238095238095\n0.9523809523809523\n0.9529761904761904\n0.9526190476190476\n0.9539285714285715\n0.9526190476190476\n0.9528571428571428\n0.9533333333333334\n0.9526190476190476\n0.9522619047619048\n0.9527380952380953\n0.9527380952380953\n0.9534523809523809\n0.9527380952380953\n0.9539285714285715\n0.9535714285714286\n0.9530952380952381\n0.9534523809523809\n0.9533333333333334\n0.9526190476190476\n0.9532142857142857\n0.9526190476190476\n0.9528571428571428\n0.9525\n0.9523809523809523\n0.9521428571428572\n0.9525\n0.9523809523809523\n0.9515476190476191\n0.9517857142857142\n0.9527380952380953\n0.9526190476190476\n0.9510714285714286\n0.9519047619047619\n0.9525\n0.9517857142857142\n0.9517857142857142\n0.9529761904761904\n0.9513095238095238\n0.9516666666666667\n0.9515476190476191\n0.9521428571428572\n0.9517857142857142\n0.9514285714285714\n0.9522619047619048\n0.9513095238095238\n0.9523809523809523\n0.9514285714285714\n0.9514285714285714\n0.9516666666666667\n0.9516666666666667\n0.9515476190476191\n0.9516666666666667\n0.9519047619047619\n",
          "output_type": "stream"
        },
        {
          "traceback": [
            "\u001b[0;31m---------------------------------------------------------------------------\u001b[0m",
            "\u001b[0;31mKeyboardInterrupt\u001b[0m                         Traceback (most recent call last)",
            "Cell \u001b[0;32mIn[59], line 10\u001b[0m\n\u001b[1;32m      6\u001b[0m knn\u001b[38;5;241m=\u001b[39m KNeighborsClassifier()\n\u001b[1;32m      8\u001b[0m knn\u001b[38;5;241m.\u001b[39mfit(X_train_trf,y_train)\n\u001b[0;32m---> 10\u001b[0m y_pred\u001b[38;5;241m=\u001b[39m\u001b[43mknn\u001b[49m\u001b[38;5;241;43m.\u001b[39;49m\u001b[43mpredict\u001b[49m\u001b[43m(\u001b[49m\u001b[43mX_test_trf\u001b[49m\u001b[43m)\u001b[49m\n\u001b[1;32m     12\u001b[0m \u001b[38;5;28mprint\u001b[39m(accuracy_score(y_test,y_pred))\n",
            "File \u001b[0;32m/opt/conda/lib/python3.10/site-packages/sklearn/neighbors/_classification.py:234\u001b[0m, in \u001b[0;36mKNeighborsClassifier.predict\u001b[0;34m(self, X)\u001b[0m\n\u001b[1;32m    218\u001b[0m \u001b[38;5;250m\u001b[39m\u001b[38;5;124;03m\"\"\"Predict the class labels for the provided data.\u001b[39;00m\n\u001b[1;32m    219\u001b[0m \n\u001b[1;32m    220\u001b[0m \u001b[38;5;124;03mParameters\u001b[39;00m\n\u001b[0;32m   (...)\u001b[0m\n\u001b[1;32m    229\u001b[0m \u001b[38;5;124;03m    Class labels for each data sample.\u001b[39;00m\n\u001b[1;32m    230\u001b[0m \u001b[38;5;124;03m\"\"\"\u001b[39;00m\n\u001b[1;32m    231\u001b[0m \u001b[38;5;28;01mif\u001b[39;00m \u001b[38;5;28mself\u001b[39m\u001b[38;5;241m.\u001b[39mweights \u001b[38;5;241m==\u001b[39m \u001b[38;5;124m\"\u001b[39m\u001b[38;5;124muniform\u001b[39m\u001b[38;5;124m\"\u001b[39m:\n\u001b[1;32m    232\u001b[0m     \u001b[38;5;66;03m# In that case, we do not need the distances to perform\u001b[39;00m\n\u001b[1;32m    233\u001b[0m     \u001b[38;5;66;03m# the weighting so we do not compute them.\u001b[39;00m\n\u001b[0;32m--> 234\u001b[0m     neigh_ind \u001b[38;5;241m=\u001b[39m \u001b[38;5;28;43mself\u001b[39;49m\u001b[38;5;241;43m.\u001b[39;49m\u001b[43mkneighbors\u001b[49m\u001b[43m(\u001b[49m\u001b[43mX\u001b[49m\u001b[43m,\u001b[49m\u001b[43m \u001b[49m\u001b[43mreturn_distance\u001b[49m\u001b[38;5;241;43m=\u001b[39;49m\u001b[38;5;28;43;01mFalse\u001b[39;49;00m\u001b[43m)\u001b[49m\n\u001b[1;32m    235\u001b[0m     neigh_dist \u001b[38;5;241m=\u001b[39m \u001b[38;5;28;01mNone\u001b[39;00m\n\u001b[1;32m    236\u001b[0m \u001b[38;5;28;01melse\u001b[39;00m:\n",
            "File \u001b[0;32m/opt/conda/lib/python3.10/site-packages/sklearn/neighbors/_base.py:824\u001b[0m, in \u001b[0;36mKNeighborsMixin.kneighbors\u001b[0;34m(self, X, n_neighbors, return_distance)\u001b[0m\n\u001b[1;32m    817\u001b[0m use_pairwise_distances_reductions \u001b[38;5;241m=\u001b[39m (\n\u001b[1;32m    818\u001b[0m     \u001b[38;5;28mself\u001b[39m\u001b[38;5;241m.\u001b[39m_fit_method \u001b[38;5;241m==\u001b[39m \u001b[38;5;124m\"\u001b[39m\u001b[38;5;124mbrute\u001b[39m\u001b[38;5;124m\"\u001b[39m\n\u001b[1;32m    819\u001b[0m     \u001b[38;5;129;01mand\u001b[39;00m ArgKmin\u001b[38;5;241m.\u001b[39mis_usable_for(\n\u001b[1;32m    820\u001b[0m         X \u001b[38;5;28;01mif\u001b[39;00m X \u001b[38;5;129;01mis\u001b[39;00m \u001b[38;5;129;01mnot\u001b[39;00m \u001b[38;5;28;01mNone\u001b[39;00m \u001b[38;5;28;01melse\u001b[39;00m \u001b[38;5;28mself\u001b[39m\u001b[38;5;241m.\u001b[39m_fit_X, \u001b[38;5;28mself\u001b[39m\u001b[38;5;241m.\u001b[39m_fit_X, \u001b[38;5;28mself\u001b[39m\u001b[38;5;241m.\u001b[39meffective_metric_\n\u001b[1;32m    821\u001b[0m     )\n\u001b[1;32m    822\u001b[0m )\n\u001b[1;32m    823\u001b[0m \u001b[38;5;28;01mif\u001b[39;00m use_pairwise_distances_reductions:\n\u001b[0;32m--> 824\u001b[0m     results \u001b[38;5;241m=\u001b[39m \u001b[43mArgKmin\u001b[49m\u001b[38;5;241;43m.\u001b[39;49m\u001b[43mcompute\u001b[49m\u001b[43m(\u001b[49m\n\u001b[1;32m    825\u001b[0m \u001b[43m        \u001b[49m\u001b[43mX\u001b[49m\u001b[38;5;241;43m=\u001b[39;49m\u001b[43mX\u001b[49m\u001b[43m,\u001b[49m\n\u001b[1;32m    826\u001b[0m \u001b[43m        \u001b[49m\u001b[43mY\u001b[49m\u001b[38;5;241;43m=\u001b[39;49m\u001b[38;5;28;43mself\u001b[39;49m\u001b[38;5;241;43m.\u001b[39;49m\u001b[43m_fit_X\u001b[49m\u001b[43m,\u001b[49m\n\u001b[1;32m    827\u001b[0m \u001b[43m        \u001b[49m\u001b[43mk\u001b[49m\u001b[38;5;241;43m=\u001b[39;49m\u001b[43mn_neighbors\u001b[49m\u001b[43m,\u001b[49m\n\u001b[1;32m    828\u001b[0m \u001b[43m        \u001b[49m\u001b[43mmetric\u001b[49m\u001b[38;5;241;43m=\u001b[39;49m\u001b[38;5;28;43mself\u001b[39;49m\u001b[38;5;241;43m.\u001b[39;49m\u001b[43meffective_metric_\u001b[49m\u001b[43m,\u001b[49m\n\u001b[1;32m    829\u001b[0m \u001b[43m        \u001b[49m\u001b[43mmetric_kwargs\u001b[49m\u001b[38;5;241;43m=\u001b[39;49m\u001b[38;5;28;43mself\u001b[39;49m\u001b[38;5;241;43m.\u001b[39;49m\u001b[43meffective_metric_params_\u001b[49m\u001b[43m,\u001b[49m\n\u001b[1;32m    830\u001b[0m \u001b[43m        \u001b[49m\u001b[43mstrategy\u001b[49m\u001b[38;5;241;43m=\u001b[39;49m\u001b[38;5;124;43m\"\u001b[39;49m\u001b[38;5;124;43mauto\u001b[39;49m\u001b[38;5;124;43m\"\u001b[39;49m\u001b[43m,\u001b[49m\n\u001b[1;32m    831\u001b[0m \u001b[43m        \u001b[49m\u001b[43mreturn_distance\u001b[49m\u001b[38;5;241;43m=\u001b[39;49m\u001b[43mreturn_distance\u001b[49m\u001b[43m,\u001b[49m\n\u001b[1;32m    832\u001b[0m \u001b[43m    \u001b[49m\u001b[43m)\u001b[49m\n\u001b[1;32m    834\u001b[0m \u001b[38;5;28;01melif\u001b[39;00m (\n\u001b[1;32m    835\u001b[0m     \u001b[38;5;28mself\u001b[39m\u001b[38;5;241m.\u001b[39m_fit_method \u001b[38;5;241m==\u001b[39m \u001b[38;5;124m\"\u001b[39m\u001b[38;5;124mbrute\u001b[39m\u001b[38;5;124m\"\u001b[39m \u001b[38;5;129;01mand\u001b[39;00m \u001b[38;5;28mself\u001b[39m\u001b[38;5;241m.\u001b[39mmetric \u001b[38;5;241m==\u001b[39m \u001b[38;5;124m\"\u001b[39m\u001b[38;5;124mprecomputed\u001b[39m\u001b[38;5;124m\"\u001b[39m \u001b[38;5;129;01mand\u001b[39;00m issparse(X)\n\u001b[1;32m    836\u001b[0m ):\n\u001b[1;32m    837\u001b[0m     results \u001b[38;5;241m=\u001b[39m _kneighbors_from_graph(\n\u001b[1;32m    838\u001b[0m         X, n_neighbors\u001b[38;5;241m=\u001b[39mn_neighbors, return_distance\u001b[38;5;241m=\u001b[39mreturn_distance\n\u001b[1;32m    839\u001b[0m     )\n",
            "File \u001b[0;32m/opt/conda/lib/python3.10/site-packages/sklearn/metrics/_pairwise_distances_reduction/_dispatcher.py:277\u001b[0m, in \u001b[0;36mArgKmin.compute\u001b[0;34m(cls, X, Y, k, metric, chunk_size, metric_kwargs, strategy, return_distance)\u001b[0m\n\u001b[1;32m    196\u001b[0m \u001b[38;5;250m\u001b[39m\u001b[38;5;124;03m\"\"\"Compute the argkmin reduction.\u001b[39;00m\n\u001b[1;32m    197\u001b[0m \n\u001b[1;32m    198\u001b[0m \u001b[38;5;124;03mParameters\u001b[39;00m\n\u001b[0;32m   (...)\u001b[0m\n\u001b[1;32m    274\u001b[0m \u001b[38;5;124;03mreturns.\u001b[39;00m\n\u001b[1;32m    275\u001b[0m \u001b[38;5;124;03m\"\"\"\u001b[39;00m\n\u001b[1;32m    276\u001b[0m \u001b[38;5;28;01mif\u001b[39;00m X\u001b[38;5;241m.\u001b[39mdtype \u001b[38;5;241m==\u001b[39m Y\u001b[38;5;241m.\u001b[39mdtype \u001b[38;5;241m==\u001b[39m np\u001b[38;5;241m.\u001b[39mfloat64:\n\u001b[0;32m--> 277\u001b[0m     \u001b[38;5;28;01mreturn\u001b[39;00m \u001b[43mArgKmin64\u001b[49m\u001b[38;5;241;43m.\u001b[39;49m\u001b[43mcompute\u001b[49m\u001b[43m(\u001b[49m\n\u001b[1;32m    278\u001b[0m \u001b[43m        \u001b[49m\u001b[43mX\u001b[49m\u001b[38;5;241;43m=\u001b[39;49m\u001b[43mX\u001b[49m\u001b[43m,\u001b[49m\n\u001b[1;32m    279\u001b[0m \u001b[43m        \u001b[49m\u001b[43mY\u001b[49m\u001b[38;5;241;43m=\u001b[39;49m\u001b[43mY\u001b[49m\u001b[43m,\u001b[49m\n\u001b[1;32m    280\u001b[0m \u001b[43m        \u001b[49m\u001b[43mk\u001b[49m\u001b[38;5;241;43m=\u001b[39;49m\u001b[43mk\u001b[49m\u001b[43m,\u001b[49m\n\u001b[1;32m    281\u001b[0m \u001b[43m        \u001b[49m\u001b[43mmetric\u001b[49m\u001b[38;5;241;43m=\u001b[39;49m\u001b[43mmetric\u001b[49m\u001b[43m,\u001b[49m\n\u001b[1;32m    282\u001b[0m \u001b[43m        \u001b[49m\u001b[43mchunk_size\u001b[49m\u001b[38;5;241;43m=\u001b[39;49m\u001b[43mchunk_size\u001b[49m\u001b[43m,\u001b[49m\n\u001b[1;32m    283\u001b[0m \u001b[43m        \u001b[49m\u001b[43mmetric_kwargs\u001b[49m\u001b[38;5;241;43m=\u001b[39;49m\u001b[43mmetric_kwargs\u001b[49m\u001b[43m,\u001b[49m\n\u001b[1;32m    284\u001b[0m \u001b[43m        \u001b[49m\u001b[43mstrategy\u001b[49m\u001b[38;5;241;43m=\u001b[39;49m\u001b[43mstrategy\u001b[49m\u001b[43m,\u001b[49m\n\u001b[1;32m    285\u001b[0m \u001b[43m        \u001b[49m\u001b[43mreturn_distance\u001b[49m\u001b[38;5;241;43m=\u001b[39;49m\u001b[43mreturn_distance\u001b[49m\u001b[43m,\u001b[49m\n\u001b[1;32m    286\u001b[0m \u001b[43m    \u001b[49m\u001b[43m)\u001b[49m\n\u001b[1;32m    288\u001b[0m \u001b[38;5;28;01mif\u001b[39;00m X\u001b[38;5;241m.\u001b[39mdtype \u001b[38;5;241m==\u001b[39m Y\u001b[38;5;241m.\u001b[39mdtype \u001b[38;5;241m==\u001b[39m np\u001b[38;5;241m.\u001b[39mfloat32:\n\u001b[1;32m    289\u001b[0m     \u001b[38;5;28;01mreturn\u001b[39;00m ArgKmin32\u001b[38;5;241m.\u001b[39mcompute(\n\u001b[1;32m    290\u001b[0m         X\u001b[38;5;241m=\u001b[39mX,\n\u001b[1;32m    291\u001b[0m         Y\u001b[38;5;241m=\u001b[39mY,\n\u001b[0;32m   (...)\u001b[0m\n\u001b[1;32m    297\u001b[0m         return_distance\u001b[38;5;241m=\u001b[39mreturn_distance,\n\u001b[1;32m    298\u001b[0m     )\n",
            "File \u001b[0;32msklearn/metrics/_pairwise_distances_reduction/_argkmin.pyx:95\u001b[0m, in \u001b[0;36msklearn.metrics._pairwise_distances_reduction._argkmin.ArgKmin64.compute\u001b[0;34m()\u001b[0m\n",
            "File \u001b[0;32m/opt/conda/lib/python3.10/site-packages/threadpoolctl.py:592\u001b[0m, in \u001b[0;36m_ThreadpoolLimiter.__exit__\u001b[0;34m(self, type, value, traceback)\u001b[0m\n\u001b[1;32m    589\u001b[0m \u001b[38;5;28;01mdef\u001b[39;00m \u001b[38;5;21m__enter__\u001b[39m(\u001b[38;5;28mself\u001b[39m):\n\u001b[1;32m    590\u001b[0m     \u001b[38;5;28;01mreturn\u001b[39;00m \u001b[38;5;28mself\u001b[39m\n\u001b[0;32m--> 592\u001b[0m \u001b[38;5;28;01mdef\u001b[39;00m \u001b[38;5;21m__exit__\u001b[39m(\u001b[38;5;28mself\u001b[39m, \u001b[38;5;28mtype\u001b[39m, value, traceback):\n\u001b[1;32m    593\u001b[0m     \u001b[38;5;28mself\u001b[39m\u001b[38;5;241m.\u001b[39mrestore_original_limits()\n\u001b[1;32m    595\u001b[0m \u001b[38;5;129m@classmethod\u001b[39m\n\u001b[1;32m    596\u001b[0m \u001b[38;5;28;01mdef\u001b[39;00m \u001b[38;5;21mwrap\u001b[39m(\u001b[38;5;28mcls\u001b[39m, controller, \u001b[38;5;241m*\u001b[39m, limits\u001b[38;5;241m=\u001b[39m\u001b[38;5;28;01mNone\u001b[39;00m, user_api\u001b[38;5;241m=\u001b[39m\u001b[38;5;28;01mNone\u001b[39;00m):\n",
            "\u001b[0;31mKeyboardInterrupt\u001b[0m: "
          ],
          "ename": "KeyboardInterrupt",
          "evalue": "",
          "output_type": "error"
        }
      ]
    },
    {
      "cell_type": "code",
      "source": [
        "pca.explained_variance_\n",
        "# Eigen values"
      ],
      "metadata": {
        "execution": {
          "iopub.status.busy": "2024-10-04T18:33:27.989562Z",
          "iopub.execute_input": "2024-10-04T18:33:27.990003Z",
          "iopub.status.idle": "2024-10-04T18:33:27.999665Z",
          "shell.execute_reply.started": "2024-10-04T18:33:27.989961Z",
          "shell.execute_reply": "2024-10-04T18:33:27.998567Z"
        },
        "trusted": true,
        "id": "EFNc-v2B2SLR",
        "outputId": "fc8a92b5-b407-49c5-faee-a941c7e5cbff"
      },
      "execution_count": null,
      "outputs": [
        {
          "execution_count": 60,
          "output_type": "execute_result",
          "data": {
            "text/plain": "array([40.67111198, 29.17023401, 26.74459621, 20.85344792, 18.14891878,\n       15.8529825 , 13.87108101, 12.48058967, 11.02794236, 10.09582533,\n        9.63317821,  8.62785945,  8.0630313 ,  7.89511748,  7.44167926,\n        7.17032871,  6.73266367,  6.6274402 ,  6.41499153,  6.25808259,\n        5.90495735,  5.76521565,  5.52084589,  5.32003809,  5.18309885,\n        4.93439546,  4.90652097,  4.71800422,  4.4982438 ,  4.43140235,\n        4.32604466,  4.23491758,  4.10334821,  4.06730828,  4.02362009,\n        3.84129904,  3.81885787,  3.71316184,  3.60917692,  3.4730269 ,\n        3.42842657,  3.38840636,  3.29155958,  3.22926154,  3.21744183,\n        3.15808027,  3.12619902,  3.10411042,  3.05890525,  3.03726632,\n        2.9653802 ,  2.94031508,  2.8682735 ,  2.82615715,  2.80034009,\n        2.77407904,  2.71974175,  2.69388475,  2.6471933 ,  2.63060776,\n        2.56489427,  2.53642749,  2.48781099,  2.44602446,  2.4205416 ,\n        2.37562641,  2.35488075,  2.33389482,  2.29777307,  2.25294931,\n        2.24068051,  2.18893888,  2.17659559,  2.14977254,  2.13492748,\n        2.1182923 ,  2.09837033,  2.08157792,  2.04933787,  2.03053791,\n        2.0214587 ,  2.01321494,  1.98762836,  1.97920814,  1.97368561,\n        1.94649287,  1.92848928,  1.9030756 ,  1.88976858,  1.86894393,\n        1.85615609,  1.84676604,  1.82791858,  1.80586632,  1.79758936,\n        1.7910801 ,  1.76653897,  1.76213004,  1.73468156,  1.71509489,\n        1.68696402,  1.676605  ,  1.65371887,  1.63495241,  1.62191864,\n        1.61610573,  1.58532758,  1.57805531,  1.57300066,  1.56044727,\n        1.53508457,  1.52276455,  1.50108265,  1.49260476,  1.45858796,\n        1.44197227,  1.43794604,  1.41016389,  1.40153052,  1.39676416,\n        1.37124424,  1.36615464,  1.34972907,  1.34213089,  1.32882607,\n        1.30926661,  1.30704776,  1.28806953,  1.28713682,  1.27032428,\n        1.24885691,  1.24004967,  1.2274537 ,  1.20420588,  1.19784191,\n        1.19370327,  1.17469296,  1.163422  ,  1.1557416 ,  1.14313184,\n        1.12897842,  1.11060676,  1.10618714,  1.10340172,  1.09217697,\n        1.08572066,  1.05429076,  1.05277609,  1.04499258,  1.02457955,\n        1.0221446 ,  1.02028766,  1.01246027,  1.00754223,  0.99581905,\n        0.98772355,  0.97278026,  0.96992843,  0.96676282,  0.95748927,\n        0.95442058,  0.95105072,  0.94342788,  0.92899184,  0.91953849,\n        0.91220414,  0.90769082,  0.89305813,  0.88270773,  0.87064711])"
          },
          "metadata": {}
        }
      ]
    },
    {
      "cell_type": "code",
      "source": [
        "pca.components_.shape\n",
        "# eigen vectors"
      ],
      "metadata": {
        "execution": {
          "iopub.status.busy": "2024-10-04T18:35:11.145612Z",
          "iopub.execute_input": "2024-10-04T18:35:11.145994Z",
          "iopub.status.idle": "2024-10-04T18:35:11.153349Z",
          "shell.execute_reply.started": "2024-10-04T18:35:11.145953Z",
          "shell.execute_reply": "2024-10-04T18:35:11.151894Z"
        },
        "trusted": true,
        "id": "UeB24lS12SLR",
        "outputId": "e5e62ceb-6d55-4343-ff44-32b5dad827a2"
      },
      "execution_count": null,
      "outputs": [
        {
          "execution_count": 62,
          "output_type": "execute_result",
          "data": {
            "text/plain": "(170, 784)"
          },
          "metadata": {}
        }
      ]
    },
    {
      "cell_type": "code",
      "source": [
        "pca.explained_variance_ratio_"
      ],
      "metadata": {
        "execution": {
          "iopub.status.busy": "2024-10-04T18:39:09.552398Z",
          "iopub.execute_input": "2024-10-04T18:39:09.552873Z",
          "iopub.status.idle": "2024-10-04T18:39:09.562497Z",
          "shell.execute_reply.started": "2024-10-04T18:39:09.552826Z",
          "shell.execute_reply": "2024-10-04T18:39:09.56131Z"
        },
        "trusted": true,
        "id": "gmOd6V2i2SLS",
        "outputId": "455b8139-502e-4092-ea4f-b25d8d9c9dd6"
      },
      "execution_count": null,
      "outputs": [
        {
          "execution_count": 63,
          "output_type": "execute_result",
          "data": {
            "text/plain": "array([0.05785192, 0.0414927 , 0.03804239, 0.02966263, 0.02581562,\n       0.0225498 , 0.01973068, 0.0177528 , 0.01568651, 0.01436063,\n       0.01370255, 0.01227255, 0.01146912, 0.01123027, 0.01058529,\n       0.01019931, 0.00957676, 0.00942709, 0.00912489, 0.0089017 ,\n       0.0083994 , 0.00820063, 0.00785303, 0.0075674 , 0.00737261,\n       0.00701885, 0.0069792 , 0.00671104, 0.00639845, 0.00630337,\n       0.00615351, 0.00602389, 0.00583674, 0.00578547, 0.00572333,\n       0.00546399, 0.00543207, 0.00528172, 0.00513381, 0.00494015,\n       0.00487671, 0.00481978, 0.00468202, 0.00459341, 0.00457659,\n       0.00449216, 0.00444681, 0.00441539, 0.00435109, 0.00432031,\n       0.00421805, 0.0041824 , 0.00407993, 0.00402002, 0.0039833 ,\n       0.00394594, 0.00386865, 0.00383187, 0.00376545, 0.00374186,\n       0.00364839, 0.0036079 , 0.00353874, 0.00347931, 0.00344306,\n       0.00337917, 0.00334966, 0.00331981, 0.00326843, 0.00320467,\n       0.00318722, 0.00311362, 0.00309606, 0.00305791, 0.00303679,\n       0.00301313, 0.00298479, 0.0029609 , 0.00291505, 0.0028883 ,\n       0.00287539, 0.00286366, 0.00282727, 0.00281529, 0.00280744,\n       0.00276876, 0.00274315, 0.002707  , 0.00268807, 0.00265845,\n       0.00264026, 0.0026269 , 0.00260009, 0.00256872, 0.00255695,\n       0.00254769, 0.00251278, 0.00250651, 0.00246747, 0.00243961,\n       0.00239959, 0.00238486, 0.0023523 , 0.00232561, 0.00230707,\n       0.0022988 , 0.00225502, 0.00224468, 0.00223749, 0.00221963,\n       0.00218355, 0.00216603, 0.00213519, 0.00212313, 0.00207474,\n       0.00205111, 0.00204538, 0.00200586, 0.00199358, 0.0019868 ,\n       0.0019505 , 0.00194326, 0.0019199 , 0.00190909, 0.00189017,\n       0.00186234, 0.00185919, 0.00183219, 0.00183087, 0.00180695,\n       0.00177641, 0.00176389, 0.00174597, 0.0017129 , 0.00170385,\n       0.00169796, 0.00167092, 0.00165489, 0.00164396, 0.00162603,\n       0.0016059 , 0.00157976, 0.00157348, 0.00156951, 0.00155355,\n       0.00154436, 0.00149966, 0.0014975 , 0.00148643, 0.0014574 ,\n       0.00145393, 0.00145129, 0.00144016, 0.00143316, 0.00141649,\n       0.00140497, 0.00138371, 0.00137966, 0.00137516, 0.00136196,\n       0.0013576 , 0.00135281, 0.00134196, 0.00132143, 0.00130798,\n       0.00129755, 0.00129113, 0.00127032, 0.00125559, 0.00123844])"
          },
          "metadata": {}
        }
      ]
    },
    {
      "cell_type": "code",
      "source": [
        "pca=PCA(n_components=None)\n",
        "X_train_trf=pca.fit_transform(X_train)\n",
        "X_test_trf=pca.transform(X_test)\n",
        ""
      ],
      "metadata": {
        "execution": {
          "iopub.status.busy": "2024-10-04T18:40:18.76296Z",
          "iopub.execute_input": "2024-10-04T18:40:18.763419Z",
          "iopub.status.idle": "2024-10-04T18:40:26.081531Z",
          "shell.execute_reply.started": "2024-10-04T18:40:18.763378Z",
          "shell.execute_reply": "2024-10-04T18:40:26.080365Z"
        },
        "trusted": true,
        "id": "4maxAStb2SLS"
      },
      "execution_count": null,
      "outputs": []
    },
    {
      "cell_type": "code",
      "source": [
        "pca.explained_variance_.shape"
      ],
      "metadata": {
        "execution": {
          "iopub.status.busy": "2024-10-04T18:40:43.182447Z",
          "iopub.execute_input": "2024-10-04T18:40:43.182902Z",
          "iopub.status.idle": "2024-10-04T18:40:43.190832Z",
          "shell.execute_reply.started": "2024-10-04T18:40:43.182858Z",
          "shell.execute_reply": "2024-10-04T18:40:43.18962Z"
        },
        "trusted": true,
        "id": "5z0Y2dd82SLS",
        "outputId": "1c33753b-8e23-47b9-d78a-248569b869ea"
      },
      "execution_count": null,
      "outputs": [
        {
          "execution_count": 65,
          "output_type": "execute_result",
          "data": {
            "text/plain": "(784,)"
          },
          "metadata": {}
        }
      ]
    },
    {
      "cell_type": "code",
      "source": [
        "np.cumsum(pca.explained_variance_ratio_)"
      ],
      "metadata": {
        "execution": {
          "iopub.status.busy": "2024-10-04T18:41:41.943081Z",
          "iopub.execute_input": "2024-10-04T18:41:41.943933Z",
          "iopub.status.idle": "2024-10-04T18:41:41.960475Z",
          "shell.execute_reply.started": "2024-10-04T18:41:41.943887Z",
          "shell.execute_reply": "2024-10-04T18:41:41.959046Z"
        },
        "trusted": true,
        "id": "yTbT3Syw2SLT",
        "outputId": "813500f7-1bdc-4a13-885a-73c7b24ba76b"
      },
      "execution_count": null,
      "outputs": [
        {
          "execution_count": 68,
          "output_type": "execute_result",
          "data": {
            "text/plain": "array([0.05785192, 0.09934462, 0.13738701, 0.16704964, 0.19286525,\n       0.21541506, 0.23514574, 0.25289854, 0.26858504, 0.28294568,\n       0.29664822, 0.30892077, 0.32038989, 0.33162017, 0.34220546,\n       0.35240477, 0.36198153, 0.37140862, 0.38053351, 0.38943521,\n       0.39783462, 0.40603525, 0.41388828, 0.42145568, 0.42882829,\n       0.43584714, 0.44282633, 0.44953738, 0.45593583, 0.4622392 ,\n       0.46839271, 0.4744166 , 0.48025334, 0.48603881, 0.49176214,\n       0.49722614, 0.50265822, 0.50793994, 0.51307376, 0.51801392,\n       0.52289063, 0.52771041, 0.53239246, 0.53698588, 0.54156249,\n       0.54605468, 0.5505015 , 0.55491691, 0.55926803, 0.56358836,\n       0.56780645, 0.57198888, 0.57606882, 0.58008887, 0.58407223,\n       0.58801822, 0.59188694, 0.59571889, 0.59948441, 0.60322635,\n       0.60687487, 0.6104829 , 0.61402176, 0.61750117, 0.62094441,\n       0.62432378, 0.62767368, 0.63099377, 0.63426257, 0.63746765,\n       0.64065542, 0.64376931, 0.64686564, 0.64992395, 0.65296104,\n       0.6559748 , 0.65895992, 0.66192105, 0.66483654, 0.66772536,\n       0.67060106, 0.6734651 , 0.67629295, 0.67910917, 0.68191711,\n       0.68468646, 0.68743018, 0.69013786, 0.69282727, 0.69548652,\n       0.6981275 , 0.70075516, 0.70335672, 0.7059274 , 0.70848658,\n       0.71103639, 0.71354984, 0.71605747, 0.71852606, 0.72096777,\n       0.72336938, 0.72575703, 0.72811046, 0.73043803, 0.73274819,\n       0.73504902, 0.73730548, 0.73955195, 0.74179168, 0.7440142 ,\n       0.74620053, 0.7483705 , 0.75051238, 0.7526383 , 0.75471786,\n       0.75677534, 0.758826  , 0.76083529, 0.76283446, 0.76482579,\n       0.76678392, 0.76873756, 0.77066405, 0.77258   , 0.77447592,\n       0.77635207, 0.77822334, 0.78007113, 0.78191268, 0.78373974,\n       0.78553564, 0.78731499, 0.78907371, 0.79080624, 0.79253247,\n       0.79425224, 0.79594416, 0.79762874, 0.79928778, 0.80093672,\n       0.80256446, 0.80416702, 0.80576592, 0.80735478, 0.80893549,\n       0.81050042, 0.81203815, 0.81356986, 0.81508446, 0.81658796,\n       0.81807414, 0.819548  , 0.82101567, 0.82247554, 0.82393208,\n       0.82538281, 0.8268107 , 0.82823494, 0.82965372, 0.83107178,\n       0.83248637, 0.83389408, 0.83528722, 0.83667705, 0.83806218,\n       0.83942504, 0.84078165, 0.84212383, 0.84346439, 0.84479466,\n       0.84611832, 0.84742054, 0.84871121, 0.84999906, 0.85127623,\n       0.85253753, 0.85378389, 0.85502004, 0.85624547, 0.85745736,\n       0.85866188, 0.85984637, 0.86101778, 0.86217663, 0.86332437,\n       0.86445325, 0.86558088, 0.8666952 , 0.86779646, 0.86888392,\n       0.86996579, 0.87104442, 0.87211364, 0.87317315, 0.87423006,\n       0.87527947, 0.87631514, 0.87734044, 0.87835265, 0.87936295,\n       0.88035936, 0.88134553, 0.88232488, 0.8832977 , 0.88427021,\n       0.88523831, 0.88619619, 0.88714161, 0.88807599, 0.88898991,\n       0.88989857, 0.89080345, 0.8916966 , 0.89258607, 0.89346635,\n       0.89433434, 0.89518395, 0.89603076, 0.89686706, 0.89768939,\n       0.89850803, 0.89932265, 0.90013248, 0.90093596, 0.90173482,\n       0.90251607, 0.90329546, 0.90406669, 0.90482606, 0.90557771,\n       0.90632501, 0.90706619, 0.90780234, 0.90853143, 0.90925438,\n       0.90996846, 0.91067525, 0.91137687, 0.9120734 , 0.91276691,\n       0.9134538 , 0.91412926, 0.91480048, 0.9154622 , 0.91612113,\n       0.91677252, 0.9174119 , 0.91804297, 0.91866944, 0.91929542,\n       0.91991348, 0.92052815, 0.9211373 , 0.92173916, 0.92233446,\n       0.92292101, 0.92350484, 0.92408706, 0.92466241, 0.92523367,\n       0.92579612, 0.926357  , 0.92691164, 0.92746163, 0.92800811,\n       0.92854974, 0.92908623, 0.92962044, 0.93015238, 0.93068315,\n       0.93120494, 0.93172158, 0.93223752, 0.93274696, 0.93325128,\n       0.93375434, 0.93425382, 0.93475251, 0.93524534, 0.93572834,\n       0.93620936, 0.93668669, 0.93716108, 0.93763137, 0.93809362,\n       0.93855416, 0.93901132, 0.93946516, 0.93991563, 0.94035889,\n       0.94080031, 0.94123623, 0.94166634, 0.94209054, 0.94251334,\n       0.9429314 , 0.94334561, 0.94375684, 0.94416693, 0.94457215,\n       0.94497536, 0.94537442, 0.94577212, 0.94616716, 0.94656128,\n       0.94694734, 0.94733105, 0.94771196, 0.94809051, 0.94846724,\n       0.94883789, 0.94920803, 0.94957156, 0.94992961, 0.95028537,\n       0.9506398 , 0.95099343, 0.9513436 , 0.95168786, 0.95202923,\n       0.9523691 , 0.95270547, 0.95303995, 0.95337297, 0.95370415,\n       0.95403451, 0.95436355, 0.95468948, 0.95500992, 0.95532964,\n       0.95564747, 0.95596177, 0.9562738 , 0.9565845 , 0.95689448,\n       0.95720249, 0.95750637, 0.95780805, 0.95810729, 0.95840523,\n       0.95870234, 0.9589963 , 0.95928521, 0.9595721 , 0.95985691,\n       0.9601397 , 0.9604215 , 0.96070051, 0.96097721, 0.96125114,\n       0.9615244 , 0.96179631, 0.96206536, 0.9623333 , 0.96259692,\n       0.96285944, 0.9631192 , 0.96337626, 0.96363152, 0.9638845 ,\n       0.96413674, 0.96438723, 0.96463661, 0.96488486, 0.96513187,\n       0.96537698, 0.96562037, 0.96586205, 0.96610289, 0.96634084,\n       0.96657869, 0.96681272, 0.96704657, 0.96727896, 0.96750876,\n       0.96773538, 0.96796067, 0.96818505, 0.968409  , 0.96863013,\n       0.96885103, 0.96907065, 0.96928885, 0.96950343, 0.96971703,\n       0.96992842, 0.97013804, 0.9703469 , 0.97055541, 0.97076129,\n       0.97096617, 0.9711703 , 0.97137304, 0.97157367, 0.97177272,\n       0.97196898, 0.97216465, 0.97235955, 0.97255284, 0.97274564,\n       0.97293686, 0.97312619, 0.97331534, 0.97350238, 0.97368816,\n       0.97387195, 0.9740554 , 0.9742372 , 0.97441869, 0.9745998 ,\n       0.97477959, 0.97495709, 0.97513385, 0.9753098 , 0.97548507,\n       0.97565906, 0.97583276, 0.97600475, 0.97617632, 0.97634726,\n       0.97651789, 0.97668656, 0.97685386, 0.9770202 , 0.97718552,\n       0.97735024, 0.97751419, 0.97767708, 0.97783857, 0.97799968,\n       0.97816011, 0.97831997, 0.97847803, 0.97863471, 0.97879125,\n       0.97894717, 0.97910129, 0.97925534, 0.9794075 , 0.97955873,\n       0.97970896, 0.97985833, 0.98000708, 0.9801544 , 0.98030149,\n       0.98044778, 0.98059235, 0.98073638, 0.98088019, 0.98102317,\n       0.98116567, 0.98130745, 0.98144769, 0.98158734, 0.98172653,\n       0.98186487, 0.9820027 , 0.98213961, 0.98227604, 0.98241149,\n       0.98254653, 0.98268118, 0.98281498, 0.98294806, 0.98307997,\n       0.98321127, 0.98334209, 0.98347147, 0.98360011, 0.98372841,\n       0.98385617, 0.983983  , 0.98410924, 0.98423434, 0.98435884,\n       0.98448278, 0.98460617, 0.98472912, 0.984852  , 0.98497324,\n       0.98509422, 0.98521456, 0.98533478, 0.98545394, 0.9855726 ,\n       0.98569101, 0.98580854, 0.98592469, 0.9860402 , 0.98615511,\n       0.98626975, 0.98638343, 0.9864965 , 0.98660857, 0.98672004,\n       0.98683101, 0.98694155, 0.98705146, 0.9871611 , 0.98727017,\n       0.98737845, 0.98748622, 0.98759382, 0.98770049, 0.98780695,\n       0.98791282, 0.98801809, 0.98812308, 0.98822752, 0.98833112,\n       0.98843461, 0.98853712, 0.98863913, 0.98874026, 0.98884103,\n       0.98894147, 0.98904132, 0.98914006, 0.98923872, 0.98933657,\n       0.98943426, 0.9895316 , 0.98962858, 0.98972495, 0.98982042,\n       0.98991553, 0.99001034, 0.99010474, 0.99019869, 0.99029232,\n       0.99038547, 0.99047802, 0.99056952, 0.99066046, 0.99075123,\n       0.9908412 , 0.99093095, 0.99102027, 0.99110878, 0.99119686,\n       0.991284  , 0.99137064, 0.99145684, 0.99154301, 0.9916287 ,\n       0.99171383, 0.99179822, 0.99188227, 0.99196602, 0.99204914,\n       0.99213215, 0.99221454, 0.99229625, 0.9923773 , 0.99245801,\n       0.99253818, 0.99261801, 0.99269711, 0.99277575, 0.99285437,\n       0.99293242, 0.99301037, 0.99308714, 0.99316362, 0.99323997,\n       0.99331588, 0.99339135, 0.99346645, 0.99354112, 0.99361543,\n       0.99368914, 0.99376232, 0.9938352 , 0.99390791, 0.99398013,\n       0.99405219, 0.99412331, 0.99419377, 0.994264  , 0.99433386,\n       0.99440353, 0.99447278, 0.99454165, 0.99461022, 0.99467846,\n       0.99474631, 0.99481384, 0.99488084, 0.99494741, 0.99501349,\n       0.99507947, 0.99514485, 0.99520937, 0.99527369, 0.99533783,\n       0.99540182, 0.99546534, 0.99552812, 0.99559085, 0.99565334,\n       0.99571532, 0.99577699, 0.99583833, 0.99589931, 0.9959597 ,\n       0.99601994, 0.99608004, 0.9961398 , 0.99619902, 0.99625806,\n       0.99631668, 0.99637498, 0.99643246, 0.99648964, 0.99654658,\n       0.99660348, 0.99666008, 0.99671624, 0.99677226, 0.99682789,\n       0.99688332, 0.99693851, 0.99699341, 0.99704791, 0.99710219,\n       0.99715597, 0.99720952, 0.99726274, 0.99731563, 0.99736803,\n       0.99742014, 0.99747165, 0.99752302, 0.99757402, 0.99762466,\n       0.99767508, 0.99772515, 0.99777484, 0.99782431, 0.99787324,\n       0.99792198, 0.99797022, 0.99801832, 0.99806623, 0.99811294,\n       0.99815934, 0.99820553, 0.9982516 , 0.99829736, 0.99834261,\n       0.99838751, 0.99843215, 0.99847669, 0.99852092, 0.99856455,\n       0.99860796, 0.9986511 , 0.99869369, 0.99873568, 0.99877733,\n       0.9988188 , 0.99886   , 0.99890061, 0.99894074, 0.99898074,\n       0.99902045, 0.99905956, 0.99909851, 0.99913737, 0.99917557,\n       0.99921352, 0.99925108, 0.99928825, 0.99932528, 0.99936201,\n       0.99939802, 0.99943366, 0.99946908, 0.99950427, 0.99953896,\n       0.99957313, 0.99960703, 0.99964055, 0.99967369, 0.99970635,\n       0.9997389 , 0.99977105, 0.99980226, 0.9998326 , 0.99986238,\n       0.99989173, 0.99992013, 0.99994621, 0.99997163, 0.99998665,\n       0.99999752, 1.        , 1.        , 1.        , 1.        ,\n       1.        , 1.        , 1.        , 1.        , 1.        ,\n       1.        , 1.        , 1.        , 1.        , 1.        ,\n       1.        , 1.        , 1.        , 1.        , 1.        ,\n       1.        , 1.        , 1.        , 1.        , 1.        ,\n       1.        , 1.        , 1.        , 1.        , 1.        ,\n       1.        , 1.        , 1.        , 1.        , 1.        ,\n       1.        , 1.        , 1.        , 1.        , 1.        ,\n       1.        , 1.        , 1.        , 1.        , 1.        ,\n       1.        , 1.        , 1.        , 1.        , 1.        ,\n       1.        , 1.        , 1.        , 1.        , 1.        ,\n       1.        , 1.        , 1.        , 1.        , 1.        ,\n       1.        , 1.        , 1.        , 1.        , 1.        ,\n       1.        , 1.        , 1.        , 1.        , 1.        ,\n       1.        , 1.        , 1.        , 1.        , 1.        ,\n       1.        , 1.        , 1.        , 1.        , 1.        ,\n       1.        , 1.        , 1.        , 1.        , 1.        ,\n       1.        , 1.        , 1.        , 1.        ])"
          },
          "metadata": {}
        }
      ]
    },
    {
      "cell_type": "code",
      "source": [
        "plt.plot(np.cumsum(pca.explained_variance_ratio_))"
      ],
      "metadata": {
        "execution": {
          "iopub.status.busy": "2024-10-04T18:42:18.252843Z",
          "iopub.execute_input": "2024-10-04T18:42:18.253301Z",
          "iopub.status.idle": "2024-10-04T18:42:18.482499Z",
          "shell.execute_reply.started": "2024-10-04T18:42:18.253239Z",
          "shell.execute_reply": "2024-10-04T18:42:18.480947Z"
        },
        "trusted": true,
        "id": "0VqVUSKP2SLT",
        "outputId": "a0dec9d6-64af-4347-a0ad-2e6858ebb47c"
      },
      "execution_count": null,
      "outputs": [
        {
          "execution_count": 69,
          "output_type": "execute_result",
          "data": {
            "text/plain": "[<matplotlib.lines.Line2D at 0x7c65cf0c4370>]"
          },
          "metadata": {}
        },
        {
          "output_type": "display_data",
          "data": {
            "text/plain": "<Figure size 640x480 with 1 Axes>",
            "image/png": "[encoded data removed]"
          },
          "metadata": {}
        }
      ]
    }
  ]
}